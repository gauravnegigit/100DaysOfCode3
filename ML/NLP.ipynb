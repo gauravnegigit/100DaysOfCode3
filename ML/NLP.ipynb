{
 "cells": [
  {
   "cell_type": "code",
   "execution_count": 22,
   "id": "f308eb13",
   "metadata": {},
   "outputs": [],
   "source": [
    "import spacy "
   ]
  },
  {
   "cell_type": "code",
   "execution_count": 23,
   "id": "e965ad66",
   "metadata": {},
   "outputs": [],
   "source": [
    "nlp = spacy.load('en_core_web_sm')"
   ]
  },
  {
   "cell_type": "code",
   "execution_count": 24,
   "id": "1db93f4a",
   "metadata": {},
   "outputs": [
    {
     "data": {
      "text/plain": [
       "['tok2vec', 'tagger', 'parser', 'attribute_ruler', 'lemmatizer', 'ner']"
      ]
     },
     "execution_count": 24,
     "metadata": {},
     "output_type": "execute_result"
    }
   ],
   "source": [
    "nlp.pipe_names"
   ]
  },
  {
   "cell_type": "code",
   "execution_count": 25,
   "id": "d796cc83",
   "metadata": {},
   "outputs": [
    {
     "data": {
      "text/plain": [
       "[('tok2vec', <spacy.pipeline.tok2vec.Tok2Vec at 0x27eff900520>),\n",
       " ('tagger', <spacy.pipeline.tagger.Tagger at 0x27effaee040>),\n",
       " ('parser', <spacy.pipeline.dep_parser.DependencyParser at 0x27eff904dd0>),\n",
       " ('attribute_ruler',\n",
       "  <spacy.pipeline.attributeruler.AttributeRuler at 0x27ee9a27940>),\n",
       " ('lemmatizer', <spacy.lang.en.lemmatizer.EnglishLemmatizer at 0x27effb3b200>),\n",
       " ('ner', <spacy.pipeline.ner.EntityRecognizer at 0x27eff9045f0>)]"
      ]
     },
     "execution_count": 25,
     "metadata": {},
     "output_type": "execute_result"
    }
   ],
   "source": [
    "nlp.pipeline"
   ]
  },
  {
   "cell_type": "code",
   "execution_count": 26,
   "id": "584a0ced",
   "metadata": {},
   "outputs": [],
   "source": [
    "text = \"tesla was one of teh greatest mathematician , physicist and engineer.\"\n",
    "doc = nlp(text)"
   ]
  },
  {
   "cell_type": "code",
   "execution_count": 27,
   "id": "b9c8aa0e",
   "metadata": {},
   "outputs": [
    {
     "name": "stdout",
     "output_type": "stream",
     "text": [
      "tesla  |  PROPN  |  tesla\n",
      "was  |  AUX  |  be\n",
      "one  |  NUM  |  one\n",
      "of  |  ADP  |  of\n",
      "teh  |  PROPN  |  teh\n",
      "greatest  |  ADJ  |  great\n",
      "mathematician  |  PROPN  |  mathematician\n",
      ",  |  PUNCT  |  ,\n",
      "physicist  |  NOUN  |  physicist\n",
      "and  |  CCONJ  |  and\n",
      "engineer  |  NOUN  |  engineer\n",
      ".  |  PUNCT  |  .\n"
     ]
    }
   ],
   "source": [
    "for token in doc :\n",
    "    print(token , \" | \" , token.pos_ , \" | \" , token.lemma_)"
   ]
  },
  {
   "cell_type": "code",
   "execution_count": 38,
   "id": "b09850de",
   "metadata": {},
   "outputs": [
    {
     "name": "stdout",
     "output_type": "stream",
     "text": [
      "(Tesla Inc, $45 billion)\n",
      "Tesla Inc  |  383  |  Companies, agencies, institutions, etc.\n",
      "$45 billion  |  394  |  Monetary values, including unit\n"
     ]
    }
   ],
   "source": [
    "doc = nlp(\"Tesla Inc is going to twitter in $45 billion\")\n",
    "print(doc.ents)\n",
    "for ent in doc.ents:\n",
    "    print(ent.text , \" | \" , ent.label , \" | \" , spacy.explain(ent.label_))"
   ]
  },
  {
   "cell_type": "code",
   "execution_count": 41,
   "id": "921ea880",
   "metadata": {},
   "outputs": [
    {
     "data": {
      "text/html": [
       "<span class=\"tex2jax_ignore\"><div class=\"entities\" style=\"line-height: 2.5; direction: ltr\">\n",
       "<mark class=\"entity\" style=\"background: #7aecec; padding: 0.45em 0.6em; margin: 0 0.25em; line-height: 1; border-radius: 0.35em;\">\n",
       "    Tesla Inc\n",
       "    <span style=\"font-size: 0.8em; font-weight: bold; line-height: 1; border-radius: 0.35em; vertical-align: middle; margin-left: 0.5rem\">ORG</span>\n",
       "</mark>\n",
       " is going to twitter in \n",
       "<mark class=\"entity\" style=\"background: #e4e7d2; padding: 0.45em 0.6em; margin: 0 0.25em; line-height: 1; border-radius: 0.35em;\">\n",
       "    $45 billion\n",
       "    <span style=\"font-size: 0.8em; font-weight: bold; line-height: 1; border-radius: 0.35em; vertical-align: middle; margin-left: 0.5rem\">MONEY</span>\n",
       "</mark>\n",
       "</div></span>"
      ],
      "text/plain": [
       "<IPython.core.display.HTML object>"
      ]
     },
     "metadata": {},
     "output_type": "display_data"
    }
   ],
   "source": [
    "from spacy import displacy\n",
    "displacy.render(doc, style=\"ent\")"
   ]
  },
  {
   "cell_type": "markdown",
   "id": "a063f08c",
   "metadata": {},
   "source": [
    "### Adding a component to a blank pipeline"
   ]
  },
  {
   "cell_type": "code",
   "execution_count": 44,
   "id": "30aad694",
   "metadata": {},
   "outputs": [
    {
     "data": {
      "text/plain": [
       "['ner']"
      ]
     },
     "execution_count": 44,
     "metadata": {},
     "output_type": "execute_result"
    }
   ],
   "source": [
    "source_nlp = spacy.load(\"en_core_web_sm\")\n",
    "nlp = spacy.blank(\"en\")\n",
    "nlp.add_pipe(\"ner\" , source = source_nlp)\n",
    "nlp.pipe_names"
   ]
  },
  {
   "cell_type": "code",
   "execution_count": 45,
   "id": "7ae694b2",
   "metadata": {},
   "outputs": [],
   "source": [
    "from nltk import PorterStemmer\n",
    "\n",
    "stemmer = PorterStemmer()\n"
   ]
  },
  {
   "cell_type": "code",
   "execution_count": 46,
   "id": "c2d0abdc",
   "metadata": {},
   "outputs": [],
   "source": [
    "words = [\"eating\" , \"eats\" , \"ate\" , \"eat\" , \"adjustable\" , \"adjust\" , \"meeting\" , \"meet\"]"
   ]
  },
  {
   "cell_type": "code",
   "execution_count": 47,
   "id": "c897e98c",
   "metadata": {},
   "outputs": [
    {
     "name": "stdout",
     "output_type": "stream",
     "text": [
      "eating | eat\n",
      "eats | eat\n",
      "ate | ate\n",
      "eat | eat\n",
      "adjustable | adjust\n",
      "adjust | adjust\n",
      "meeting | meet\n",
      "meet | meet\n"
     ]
    }
   ],
   "source": [
    "for word in words :\n",
    "    print(word , \"|\" , stemmer.stem(word))"
   ]
  },
  {
   "cell_type": "code",
   "execution_count": 51,
   "id": "649b94d7",
   "metadata": {},
   "outputs": [
    {
     "name": "stdout",
     "output_type": "stream",
     "text": [
      "Mando  |  mando  |  10991835832878170099\n",
      "talked  |  talk  |  13939146775466599234\n",
      "for  |  for  |  16037325823156266367\n",
      "3  |  3  |  602994839685422785\n",
      "hours  |  hour  |  9748623380567160636\n",
      "alhtough  |  alhtough  |  3055286656299801054\n",
      "talking  |  talk  |  13939146775466599234\n",
      "is  |  be  |  10382539506755952630\n",
      "n't  |  not  |  447765159362469301\n",
      "his  |  his  |  2661093235354845946\n",
      "thing  |  thing  |  2473243759842082748\n"
     ]
    }
   ],
   "source": [
    "nlp = spacy.load(\"en_core_web_sm\")\n",
    "doc = nlp(\"Mando talked for 3 hours alhtough talking isn't his thing\")\n",
    "\n",
    "for token in doc :\n",
    "    print(token , \" | \" , token.lemma_ , \" | \" , token.lemma)"
   ]
  },
  {
   "cell_type": "code",
   "execution_count": null,
   "id": "aa0ada20",
   "metadata": {},
   "outputs": [],
   "source": [
    "ar = nlp.get_pipe('attribute_ruler')\n",
    "ar.add([] , {\"LEMMA\" : \"Brother\"})"
   ]
  }
 ],
 "metadata": {
  "kernelspec": {
   "display_name": "Python 3 (ipykernel)",
   "language": "python",
   "name": "python3"
  },
  "language_info": {
   "codemirror_mode": {
    "name": "ipython",
    "version": 3
   },
   "file_extension": ".py",
   "mimetype": "text/x-python",
   "name": "python",
   "nbconvert_exporter": "python",
   "pygments_lexer": "ipython3",
   "version": "3.9.6"
  }
 },
 "nbformat": 4,
 "nbformat_minor": 5
}
